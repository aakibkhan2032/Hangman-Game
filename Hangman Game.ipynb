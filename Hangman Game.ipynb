{
 "cells": [
  {
   "cell_type": "code",
   "execution_count": null,
   "id": "f186536d-461c-445c-9f6e-6c150bb6af34",
   "metadata": {},
   "outputs": [],
   "source": [
    "import random\n",
    "\n",
    "def hangman():\n",
    "    word_list = ['python', 'javascript', 'hangman', 'challenge', 'programming', 'github']\n",
    "    word = random.choice(word_list)\n",
    "    guessed_letters = set()\n",
    "    correct_letters = set(word)\n",
    "    attempts_left = 6\n",
    "\n",
    "    print(\"Welcome to Hangman!\")\n",
    "    print(\"_ \" * len(word))\n",
    "\n",
    "    while attempts_left > 0 and correct_letters:\n",
    "        print(f\"\\nAttempts left: {attempts_left}\")\n",
    "        print(\"Guessed letters:\", \" \".join(sorted(guessed_letters)))\n",
    "\n",
    "        guess = input(\"Guess a letter: \").lower()\n",
    "\n",
    "        if len(guess) != 1 or not guess.isalpha():\n",
    "            print(\"Please enter a single alphabetic character.\")\n",
    "            continue\n",
    "\n",
    "        if guess in guessed_letters:\n",
    "            print(\"You already guessed that letter.\")\n",
    "            continue\n",
    "\n",
    "        guessed_letters.add(guess)\n",
    "\n",
    "        if guess in correct_letters:\n",
    "            correct_letters.remove(guess)\n",
    "            print(\"Good guess!\")\n",
    "        else:\n",
    "            attempts_left -= 1\n",
    "            print(\"Wrong guess!\")\n",
    "\n",
    "        # Show current progress\n",
    "        display_word = [letter if letter in guessed_letters else '_' for letter in word]\n",
    "        print(\" \".join(display_word))\n",
    "\n",
    "    if not correct_letters:\n",
    "        print(\"\\nCongratulations! You guessed the word:\", word)\n",
    "    else:\n",
    "        print(\"\\nGame Over! The word was:\", word)\n",
    "\n",
    "if __name__ == \"__main__\":\n",
    "    hangman()\n"
   ]
  },
  {
   "cell_type": "code",
   "execution_count": null,
   "id": "9ddc60ca-c3eb-472e-a9e2-c9fd133f1912",
   "metadata": {},
   "outputs": [],
   "source": []
  }
 ],
 "metadata": {
  "kernelspec": {
   "display_name": "Python 3 (ipykernel)",
   "language": "python",
   "name": "python3"
  },
  "language_info": {
   "codemirror_mode": {
    "name": "ipython",
    "version": 3
   },
   "file_extension": ".py",
   "mimetype": "text/x-python",
   "name": "python",
   "nbconvert_exporter": "python",
   "pygments_lexer": "ipython3",
   "version": "3.13.5"
  }
 },
 "nbformat": 4,
 "nbformat_minor": 5
}
